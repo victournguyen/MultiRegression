{
 "cells": [
  {
   "cell_type": "markdown",
   "source": [
    "# Multivariable Linear Regression\n",
    "With simple linear regression, we have one independent and one dependent variable. These relationships are easy to plot and visualize on a graph. However, with real-world situations, there are often multiple factors that affect an outcome. This can make it difficult to visualize the relationships between the variables. A possible solution is to use some form of a decision tree, which, after splitting and pruning, will provide a much more intuitive explanation. Nevertheless, we explore the algorithm of multivariable linear regression using gradient descent in this Jupyter Notebook, attempting to find a linear relationship between the independent and dependent variables.\n",
    "\n",
    "It is important to note that there is a difference between multivaria**BLE** and multivaria**TE** regression. Multivariable regression uses multiple predictor variables but only **ONE** outcome variable while multivariate regression has **MULTIPLE** outcome variables.\n",
    "\n",
    "## Libraries\n",
    "For this implementation, we will use pandas to read in data from CSV files, NumPy arrays for fast calculations, scikit-learn to split our data into training and validation sets, and matplotlib to visualize the process. Although the pandas DataFrames can be used directly throughout the gradient descent (by converting extracted rows to NumPy arrays), converting them to NumPy arrays before applying the regression will greatly decrease computation time (especially for large data sets) because indexing for DataFrames is quite slow."
   ],
   "metadata": {
    "collapsed": false
   }
  },
  {
   "cell_type": "code",
   "execution_count": 1,
   "metadata": {
    "collapsed": true
   },
   "outputs": [],
   "source": [
    "import numpy as np\n",
    "import pandas as pd\n",
    "from sklearn.model_selection import train_test_split\n",
    "import matplotlib.pyplot as plt"
   ]
  },
  {
   "cell_type": "markdown",
   "source": [
    "## Functions\n",
    "This section includes the functions necessary for data processing, error calculation, and gradient descent iteration.\n",
    "\n",
    "### Data Processing\n",
    "Linear regression does not require normalization of the values, but doing this decreases the chances of overflowing the capacity of a float in Python due to high error from large values. Min-Max Normalization will be sufficient in this example, independently performing it on each variable to linearly scale values between the minimums and maximums of their respective columns.\n",
    "\n",
    "$$v_{new}=\\frac{v_{old}-\\text{min}(v_{old})}{\\text{max}(v_{old})-\\text{min}(v_{old})}$$\n",
    "\n",
    "Since the minimums and maximums may not be defined and included in the data, we need to be able to reverse this in order to put the predicted values into a readable, comprehensible form. Therefore, these extremes are returned by the `normalize_minmax` function to be saved and used by the `denorm` function after iteration."
   ],
   "metadata": {
    "collapsed": false
   }
  },
  {
   "cell_type": "code",
   "execution_count": 2,
   "outputs": [],
   "source": [
    "def normalize_minmax(data):\n",
    "    mins = data.min(axis=0)\n",
    "    maxs = data.max(axis=0)\n",
    "    data = (data - mins) / (maxs - mins)\n",
    "    return data, mins, maxs\n",
    "\n",
    "def denorm(pred, mins, maxs, col):\n",
    "    return pred * (maxs[col] - mins[col]) + mins[col]"
   ],
   "metadata": {
    "collapsed": false
   }
  },
  {
   "cell_type": "markdown",
   "source": [
    "### Gradient Descent\n",
    "The `predict` function not only serves to reduce redundancy in the other functions found in this section but also to provide a method to use the model to predict new data points, using the equation below. $\\hat{y}$ is the predicted outcome variable, $x_k$ are the predictor variables, and $\\beta_k$ are the values we will adjust to reduce the error.\n",
    "\n",
    "$$\\hat{y}=\\beta_0+\\beta_1x_1+\\beta_2x_2+\\ldots+\\beta_mx_m$$"
   ],
   "metadata": {
    "collapsed": false
   }
  },
  {
   "cell_type": "code",
   "execution_count": 3,
   "outputs": [],
   "source": [
    "def predict(point, betas):\n",
    "    return betas[0] + np.dot(betas[1:], point.T)"
   ],
   "metadata": {
    "collapsed": false
   }
  },
  {
   "cell_type": "markdown",
   "source": [
    "For linear regression, we will use mean squared error as the cost function, represented by the following equation. Choosing a good cost function to perform regression with is important because we want to use one that has only one local minimum, which is the global minimum.\n",
    "\n",
    "$$J=\\frac{1}{n}\\sum_{i=1}^{n} (y_i-\\hat{y_i})^2$$"
   ],
   "metadata": {
    "collapsed": false
   }
  },
  {
   "cell_type": "code",
   "execution_count": 4,
   "outputs": [],
   "source": [
    "def mse(data, betas):\n",
    "    rows, cols = data.shape\n",
    "    loss = 0\n",
    "    for i in range(rows):\n",
    "        loss += pow(data[i][cols - 1] - predict(data[i][:cols - 1], betas), 2)\n",
    "    loss *= 1 / rows\n",
    "    return loss"
   ],
   "metadata": {
    "collapsed": false
   }
  },
  {
   "cell_type": "markdown",
   "source": [
    "The `iterate` function contains the actual gradient descent iteration.\n",
    "\n",
    "#### Conceptual Visualization\n",
    "Imagine you are on a hill and are trying to get to the bottom. However, there is a problem—you are blindfolded and don't know where the bottom is. Therefore, you feel the ground close to you. The left slopes up, in front slopes up, same with behind. On the other hand, the right slopes down, so what direction should you step in? The right. You keep repeating this process until you are essentially at your destination, the bottom of the hill. At a single moment in time, a single position, you know which direction the hill slants. We can use this information to decide where to advance. Although this visualization is not completely accurate, this is essentially how gradient descent works.\n",
    "\n",
    "#### Algorithm\n",
    "With gradient descent, the aim is to minimize the cost, or loss. In other words, we want to improve each of the $\\beta$-values to a state where the cost is at its global minimum. To calculate these new values, we use the equation below.\n",
    "\n",
    "$$\\beta_{k_{new}}=\\beta_{k_{old}}-\\alpha\\frac{\\partial J}{\\partial \\beta_k}$$\n",
    "\n",
    "$J$ represents the cost function, defined above, and $\\alpha$ is the learning rate of the model. The partial derivative of $J$ with respect to $\\beta_k$ is the slope of the cost with respect to $\\beta_k$, which the model uses to step in the correct direction.\n",
    "\n",
    "$$\\frac{\\partial J}{\\partial \\beta_k}=-\\frac{2}{n}\\sum_{i=1}^{n} (y_i-\\hat{y_i}) \\text{    for } k=0$$\n",
    "$$\\frac{\\partial J}{\\partial \\beta_k}=-\\frac{2}{n}\\sum_{i=1}^{n} (y_i-\\hat{y_i})x_{k_i} \\text{    for } k>0$$"
   ],
   "metadata": {
    "collapsed": false
   }
  },
  {
   "cell_type": "code",
   "execution_count": 5,
   "outputs": [],
   "source": [
    "def iterate(data_train, data_test, betas, epochs, learning_rate):\n",
    "    metrics = {\n",
    "        'loss_train': [mse(data_train, betas)],\n",
    "        'loss_test': [mse(data_test, betas)],\n",
    "    }\n",
    "    rows, cols = data_train.shape\n",
    "    for k in range(epochs):\n",
    "        dbetas = np.zeros(len(betas))\n",
    "        for i in range(rows):\n",
    "            temp = data_train[i][cols - 1] - predict(data_train[i][:cols - 1], betas)\n",
    "            dbetas[0] += temp\n",
    "            dbetas[1:] += temp * data_train[i][:cols - 1]\n",
    "        dbetas *= -2 / rows\n",
    "        betas -= dbetas * learning_rate\n",
    "        metrics['loss_train'].append(mse(data_train, betas))\n",
    "        metrics['loss_test'].append(mse(data_test, betas))\n",
    "    return metrics"
   ],
   "metadata": {
    "collapsed": false
   }
  },
  {
   "cell_type": "markdown",
   "source": [
    "## Training and Testing\n",
    "Now that the linear regression with gradient descent iteration is defined, we can test it on data. We will first use the default data for the [interactive webpage graph](https://github.com/victournguyen/LinearRegressionGD) for this example and split it into 90% training and 10% validation, shuffling it to provide more randomness. Splitting the data into these two sets will confirm that the model can predict values accurately for data it has never seen before—it is a measure against overfitting."
   ],
   "metadata": {
    "collapsed": false
   }
  },
  {
   "cell_type": "code",
   "execution_count": 6,
   "outputs": [
    {
     "name": "stdout",
     "output_type": "stream",
     "text": [
      "   x  y\n",
      "0  0  6\n",
      "1  1  4\n",
      "2  2  3\n",
      "3  3  3\n",
      "4  4  1\n",
      "5  5  0\n"
     ]
    }
   ],
   "source": [
    "data = pd.read_csv('linreg_data.csv')\n",
    "print(data)\n",
    "data = data.to_numpy()\n",
    "train, test = train_test_split(data, test_size=0.1, shuffle=True, random_state=29)"
   ],
   "metadata": {
    "collapsed": false
   }
  },
  {
   "cell_type": "markdown",
   "source": [
    "Let's iterate for 100 epochs at a learning rate of 0.06 and see what happens."
   ],
   "metadata": {
    "collapsed": false
   }
  },
  {
   "cell_type": "code",
   "execution_count": 7,
   "outputs": [],
   "source": [
    "eps = 100\n",
    "lr = 0.06\n",
    "betas = np.zeros(train.shape[1])\n",
    "\n",
    "metrics = iterate(train, test, betas, eps, lr)"
   ],
   "metadata": {
    "collapsed": false
   }
  },
  {
   "cell_type": "markdown",
   "source": [
    "The errors for both the training and test data sets start pretty high, but as the iteration progresses, they decrease and eventually converge. A learning rate that is too high can cause the algorithm to diverge or be inefficient in reaching convergence due to overshooting the minimum. A learning rate that is too low will require many epochs to converge, again making it inefficient. Therefore, the learning rate should be chosen accordingly."
   ],
   "metadata": {
    "collapsed": false
   }
  },
  {
   "cell_type": "code",
   "execution_count": 8,
   "outputs": [
    {
     "data": {
      "text/plain": "<Figure size 600x600 with 1 Axes>",
      "image/png": "[encoded data removed]"
     },
     "metadata": {},
     "output_type": "display_data"
    }
   ],
   "source": [
    "plt.figure(figsize=(6, 6))\n",
    "plt.plot(range(eps + 1), metrics['loss_train'], c='blue', label='Training')\n",
    "plt.plot(range(eps + 1), metrics['loss_test'], c='orange', label='Test')\n",
    "plt.legend(loc='upper right')\n",
    "plt.title('Loss')\n",
    "plt.xlabel('Epoch')\n",
    "plt.ylabel('Mean Squared Error')\n",
    "plt.show()"
   ],
   "metadata": {
    "collapsed": false
   }
  },
  {
   "cell_type": "code",
   "execution_count": 9,
   "outputs": [
    {
     "name": "stdout",
     "output_type": "stream",
     "text": [
      "Loss (Train):\t0.18842861254312948\n",
      "Loss (Test):\t0.17708188716342915\n"
     ]
    }
   ],
   "source": [
    "print('Loss (Train):\\t{}'.format(metrics['loss_train'][eps]))\n",
    "print('Loss (Test):\\t{}'.format(metrics['loss_test'][eps]))"
   ],
   "metadata": {
    "collapsed": false
   }
  },
  {
   "cell_type": "markdown",
   "source": [
    "We can also see how the model performs on real data. This red wine quality data set contains information about certain wines, such as acidity, pH, and quality, from UC Irvine. Let's use every variable except for the quality as predictor variables to predict the quality. To prevent overflow in Python, the data is normalized between 0 and 1."
   ],
   "metadata": {
    "collapsed": false
   }
  },
  {
   "cell_type": "code",
   "execution_count": 10,
   "outputs": [
    {
     "name": "stdout",
     "output_type": "stream",
     "text": [
      "   fixed acidity  volatile acidity  citric acid  residual sugar  chlorides  \\\n",
      "0            7.4              0.70         0.00             1.9      0.076   \n",
      "1            7.8              0.88         0.00             2.6      0.098   \n",
      "2            7.8              0.76         0.04             2.3      0.092   \n",
      "3           11.2              0.28         0.56             1.9      0.075   \n",
      "4            7.4              0.70         0.00             1.9      0.076   \n",
      "5            7.4              0.66         0.00             1.8      0.075   \n",
      "6            7.9              0.60         0.06             1.6      0.069   \n",
      "7            7.3              0.65         0.00             1.2      0.065   \n",
      "8            7.8              0.58         0.02             2.0      0.073   \n",
      "9            7.5              0.50         0.36             6.1      0.071   \n",
      "\n",
      "   free sulfur dioxide  total sulfur dioxide  density    pH  sulphates  \\\n",
      "0                 11.0                  34.0   0.9978  3.51       0.56   \n",
      "1                 25.0                  67.0   0.9968  3.20       0.68   \n",
      "2                 15.0                  54.0   0.9970  3.26       0.65   \n",
      "3                 17.0                  60.0   0.9980  3.16       0.58   \n",
      "4                 11.0                  34.0   0.9978  3.51       0.56   \n",
      "5                 13.0                  40.0   0.9978  3.51       0.56   \n",
      "6                 15.0                  59.0   0.9964  3.30       0.46   \n",
      "7                 15.0                  21.0   0.9946  3.39       0.47   \n",
      "8                  9.0                  18.0   0.9968  3.36       0.57   \n",
      "9                 17.0                 102.0   0.9978  3.35       0.80   \n",
      "\n",
      "   alcohol  quality  \n",
      "0      9.4        5  \n",
      "1      9.8        5  \n",
      "2      9.8        5  \n",
      "3      9.8        6  \n",
      "4      9.4        5  \n",
      "5      9.4        5  \n",
      "6      9.4        5  \n",
      "7     10.0        7  \n",
      "8      9.5        7  \n",
      "9     10.5        5  \n"
     ]
    }
   ],
   "source": [
    "wine_red = pd.read_csv('winequality-red.csv', sep=';')\n",
    "print(wine_red.head(10))\n",
    "wine_red, denorm_min, denorm_max = normalize_minmax(wine_red)\n",
    "wine_red = wine_red.to_numpy()"
   ],
   "metadata": {
    "collapsed": false
   }
  },
  {
   "cell_type": "code",
   "execution_count": 11,
   "outputs": [],
   "source": [
    "betas = np.zeros(wine_red.shape[1])\n",
    "eps = 1000\n",
    "lr = 0.2\n",
    "\n",
    "train, test = train_test_split(wine_red, test_size=0.1, shuffle=True, random_state=29)\n",
    "metrics = iterate(train, test, betas, eps, lr)"
   ],
   "metadata": {
    "collapsed": false
   }
  },
  {
   "cell_type": "markdown",
   "source": [
    "Again, the cost decreases and eventually flattens out i.e. converges."
   ],
   "metadata": {
    "collapsed": false
   }
  },
  {
   "cell_type": "code",
   "execution_count": 12,
   "outputs": [
    {
     "data": {
      "text/plain": "<Figure size 640x480 with 1 Axes>",
      "image/png": "[encoded data removed]"
     },
     "metadata": {},
     "output_type": "display_data"
    }
   ],
   "source": [
    "plt.plot(range(eps + 1), metrics['loss_train'], c='blue', label='Training')\n",
    "plt.plot(range(eps + 1), metrics['loss_test'], c='orange', label='Test')\n",
    "plt.legend(loc='upper right')\n",
    "plt.title('Loss')\n",
    "plt.xlabel('Epoch')\n",
    "plt.ylabel('Mean Squared Error')\n",
    "plt.show()"
   ],
   "metadata": {
    "collapsed": false
   }
  },
  {
   "cell_type": "code",
   "execution_count": 13,
   "outputs": [
    {
     "name": "stdout",
     "output_type": "stream",
     "text": [
      "Loss (Train):\t0.016860013203926466\n",
      "Loss (Test):\t0.015508868131282265\n"
     ]
    }
   ],
   "source": [
    "print('Loss (Train):\\t{}'.format(metrics['loss_train'][eps]))\n",
    "print('Loss (Test):\\t{}'.format(metrics['loss_test'][eps]))"
   ],
   "metadata": {
    "collapsed": false
   }
  },
  {
   "cell_type": "markdown",
   "source": [
    "After the model is trained, it can be used to predict the quality of red wine, given the predictor variables. If you wish to use a custom data point at this step, be sure to normalize it before prediction."
   ],
   "metadata": {
    "collapsed": false
   }
  },
  {
   "cell_type": "code",
   "execution_count": 15,
   "outputs": [
    {
     "name": "stdout",
     "output_type": "stream",
     "text": [
      "Normalized Actual Quality:\t\t0.6\n",
      "Normalized Predicted Quality:\t0.64012927205179\n",
      "Denormalized Actual Quality:\t6.0\n",
      "Denormalized Predicted Quality:\t6.2006463602589506\n"
     ]
    }
   ],
   "source": [
    "pred = 10\n",
    "print('Normalized Actual Quality:\\t\\t{}'.format(test[pred][test.shape[1] - 1]))\n",
    "print('Normalized Predicted Quality:\\t{}'.format(predict(test[pred][:test.shape[1] - 1], betas)))\n",
    "print('Denormalized Actual Quality:\\t{}'.format(denorm(test[pred][test.shape[1] - 1], denorm_min, denorm_max, 'quality')))\n",
    "print('Denormalized Predicted Quality:\\t{}'.format(denorm(predict(test[pred][:test.shape[1] - 1], betas), denorm_min, denorm_max, 'quality')))"
   ],
   "metadata": {
    "collapsed": false
   }
  },
  {
   "cell_type": "markdown",
   "source": [
    "## Final Thoughts\n",
    "Linear regression is one of the simplest machine learning algorithms. It is basically the \"Hello World\" of machine learning. As with many other techniques, we can use it on real data and visualize the progression of gradient descent. Although situations in reality often require models able to represent non-linear relationships, linear regression is powerful in education and a great starting point."
   ],
   "metadata": {
    "collapsed": false
   }
  }
 ],
 "metadata": {
  "kernelspec": {
   "display_name": "Python 3",
   "language": "python",
   "name": "python3"
  },
  "language_info": {
   "codemirror_mode": {
    "name": "ipython",
    "version": 2
   },
   "file_extension": ".py",
   "mimetype": "text/x-python",
   "name": "python",
   "nbconvert_exporter": "python",
   "pygments_lexer": "ipython2",
   "version": "2.7.6"
  }
 },
 "nbformat": 4,
 "nbformat_minor": 0
}
