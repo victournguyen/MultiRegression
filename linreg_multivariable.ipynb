{
 "cells": [
  {
   "cell_type": "markdown",
   "source": [
    "# Multivariable Linear Regression\n",
    "With simple linear regression, we have one independent and one dependent variable. These relationships are easy to plot and visualize on a graph. However, with real-world situations, there are often multiple factors that affect an outcome. This can make it difficult to visualize the relationships between the variables. A possible solution is to use some form of a decision tree, which, after splitting and pruning, will provide a much more intuitive explanation. Nevertheless, we explore the algorithm of multivariable linear regression using gradient descent in this Jupyter Notebook, attempting to find a linear relationship between the independent and dependent variables.\n",
    "\n",
    "It is important to note that there is a difference between multivaria**BLE** and multivaria**TE** regression. Multivariable regression uses multiple predictor variables but only **ONE** outcome variable while multivariate regression has multiple outcome variables.\n",
    "\n",
    "## Libraries\n",
    "For this implementation, we will use pandas to read in data from CSV files, NumPy arrays for fast calculations, scikit-learn to split our data into training and validation sets, and matplotlib to visualize the process. Although the pandas DataFrames can be used directly throughout the gradient descent (by converting extracted rows to NumPy arrays), converting them to NumPy arrays before applying the regression will greatly decrease computation time (especially for large data sets) because indexing for DataFrames is quite slow."
   ],
   "metadata": {
    "collapsed": false
   }
  },
  {
   "cell_type": "code",
   "execution_count": 17,
   "metadata": {
    "collapsed": true
   },
   "outputs": [],
   "source": [
    "import numpy as np\n",
    "import pandas as pd\n",
    "from sklearn.model_selection import train_test_split\n",
    "import matplotlib.pyplot as plt"
   ]
  },
  {
   "cell_type": "markdown",
   "source": [
    "## Functions\n",
    "This section includes the functions necessary for data processing, error calculation, and gradient descent iteration.\n",
    "\n",
    "### Data Processing\n",
    "Linear regression does not require normalization of the values, but doing this decreases the chances of overflowing the capacity of a float in Python due to high error from large values. Min-Max Normalization will be sufficient in this example, independently performing it on each variable to linearly scale values between the minimums and maximums of their respective columns.\n",
    "\n",
    "$$v_{new}=\\frac{v_{old}-min(v_{old})}{max(v_{old})-min(v_{old})}$$\n",
    "\n",
    "Since the minimums and maximums may not be defined and included in the data, we need to be able to reverse this in order to put the predicted values into a readable, comprehensible form. Therefore, these extremes are returned by the `normalize_minmax` function to be saved and used by the `denorm` function after iteration."
   ],
   "metadata": {
    "collapsed": false
   }
  },
  {
   "cell_type": "code",
   "execution_count": 18,
   "outputs": [],
   "source": [
    "def normalize_minmax(data):\n",
    "    mins = data.min(axis=0)\n",
    "    maxs = data.max(axis=0)\n",
    "    data = (data - mins) / (maxs - mins)\n",
    "    return data, mins, maxs\n",
    "\n",
    "def denorm(pred, mins, maxs, col):\n",
    "    return pred * (maxs[col] - mins[col]) + mins[col]"
   ],
   "metadata": {
    "collapsed": false
   }
  },
  {
   "cell_type": "markdown",
   "source": [
    "### Gradient Descent\n",
    "The `predict` function not only serves to reduce redundancy in the other functions found in this section but also to provide a method to use the model to predict new data points, using the equation below. $\\hat{y}$ is the predicted outcome variable, $x_i$ are the predictor variables, and $\\beta_i$ are the values we will adjust to reduce the error.\n",
    "\n",
    "$$\\hat{y}=\\beta_0+\\beta_1x_1+\\beta_2x_2+\\ldots+\\beta_nx_n$$"
   ],
   "metadata": {
    "collapsed": false
   }
  },
  {
   "cell_type": "code",
   "execution_count": 19,
   "outputs": [],
   "source": [
    "def predict(point, betas):\n",
    "    return betas[0] + np.dot(betas[1:], point.T)"
   ],
   "metadata": {
    "collapsed": false
   }
  },
  {
   "cell_type": "markdown",
   "source": [
    "For linear regression, we will use mean squared error as the cost function, represented by the following equation. Choosing a good cost function to perform regression with is important because we want to use one that has only one local minimum, which is the global minimum.\n",
    "\n",
    "$$J=\\frac{1}{n}\\sum_{i=1}^{n} (y_i-\\hat{y_i})^2$$"
   ],
   "metadata": {
    "collapsed": false
   }
  },
  {
   "cell_type": "code",
   "execution_count": 20,
   "outputs": [],
   "source": [
    "def mse(data, betas):\n",
    "    rows, cols = data.shape\n",
    "    loss = 0\n",
    "    for i in range(rows):\n",
    "        loss += pow(data[i][cols - 1] - predict(data[i][:cols - 1], betas), 2)\n",
    "    loss *= 1 / rows\n",
    "    return loss"
   ],
   "metadata": {
    "collapsed": false
   }
  },
  {
   "cell_type": "markdown",
   "source": [
    "The `iterate` function contains the actual gradient descent iteration.\n",
    "\n",
    "#### Conceptual Visualization\n",
    "Imagine you are on a hill and are trying to get to the bottom. However, there is a problem—you are blindfolded and don't know where the bottom is. Therefore, you feel the ground close to you. The left slopes up, in front slopes up, same with behind. On the other hand, the right slopes down, so what direction should you step in? The right. You keep repeating this process until you are essentially at your destination, the bottom of the hill. At a single moment in time, a single position, you know which direction the hill slants. We can use this information to decide where to advance. Although this visualization is not completely accurate, this is essentially how gradient descent works.\n",
    "\n",
    "#### Algorithm\n",
    "With gradient descent, the aim is to minimize the cost, or loss. In other words, we want to improve each of the $\\beta$-values to a state where the cost is at its global minimum. To calculate these new values, we use the equation below.\n",
    "\n",
    "$$\\beta_{k_{new}}=\\beta_{k_{old}}-\\alpha\\frac{\\partial J}{\\partial \\beta_k}$$\n",
    "\n",
    "$J$ represents the cost function, defined above, and $\\alpha$ is the learning rate of the model. The partial derivative of $J$ with respect to $\\beta_i$ is the slope of the cost with respect to $\\beta_i$, which the model uses to step in the correct direction.\n",
    "\n",
    "$$\\frac{\\partial J}{\\partial \\beta_k}=-\\frac{2}{n}\\sum_{i=1}^{n} (y_i-\\hat{y_i}) \\text{    for } k=0$$\n",
    "$$\\frac{\\partial J}{\\partial \\beta_k}=-\\frac{2}{n}\\sum_{i=1}^{n} (y_i-\\hat{y_i})x_{k_i} \\text{    for } k>0$$"
   ],
   "metadata": {
    "collapsed": false
   }
  },
  {
   "cell_type": "code",
   "execution_count": 21,
   "outputs": [],
   "source": [
    "def iterate(data_train, data_test, betas, epochs, learning_rate):\n",
    "    metrics = {\n",
    "        'loss_train': [mse(data_train, betas)],\n",
    "        'loss_test': [mse(data_test, betas)],\n",
    "    }\n",
    "    rows, cols = data_train.shape\n",
    "    for k in range(epochs):\n",
    "        dbetas = np.zeros(len(betas))\n",
    "        for i in range(rows):\n",
    "            temp = data_train[i][cols - 1] - predict(data_train[i][:cols - 1], betas)\n",
    "            dbetas[0] += temp\n",
    "            dbetas[1:] += temp * data_train[i][:cols - 1]\n",
    "        dbetas *= -2 / rows\n",
    "        betas -= dbetas * learning_rate\n",
    "        metrics['loss_train'].append(mse(data_train, betas))\n",
    "        metrics['loss_test'].append(mse(data_test, betas))\n",
    "    return metrics"
   ],
   "metadata": {
    "collapsed": false
   }
  },
  {
   "cell_type": "markdown",
   "source": [
    "## Examples\n",
    "Now that the linear regression with gradient descent iteration is defined, we can test it on data. We will first use data created for this example and split it into 90% training and 10% validation, shuffling it to provide more randomness. Splitting the data into these two sets will confirm that the model can predict values accurately for data it has never seen before—it is a measure against overfitting."
   ],
   "metadata": {
    "collapsed": false
   }
  },
  {
   "cell_type": "code",
   "execution_count": 55,
   "outputs": [
    {
     "name": "stdout",
     "output_type": "stream",
     "text": [
      "   x  y\n",
      "0  0  6\n",
      "1  1  4\n",
      "2  2  3\n",
      "3  3  3\n",
      "4  4  1\n",
      "5  5  0\n"
     ]
    }
   ],
   "source": [
    "data = pd.read_csv('linreg_data.csv')\n",
    "print(data)\n",
    "data = data.to_numpy()\n",
    "train, test = train_test_split(data, test_size=0.1, shuffle=True)"
   ],
   "metadata": {
    "collapsed": false
   }
  },
  {
   "cell_type": "markdown",
   "source": [
    "Let's iterate for 100 epochs at a learning rate of 0.06 and see what happens."
   ],
   "metadata": {
    "collapsed": false
   }
  },
  {
   "cell_type": "code",
   "execution_count": 56,
   "outputs": [],
   "source": [
    "eps = 100\n",
    "lr = 0.06\n",
    "betas = np.zeros(train.shape[1])\n",
    "\n",
    "metrics = iterate(train, test, betas, eps, lr)"
   ],
   "metadata": {
    "collapsed": false
   }
  },
  {
   "cell_type": "markdown",
   "source": [
    "The errors for both the training and test data sets start pretty high, but as the iteration progresses, they decrease and eventually converge. A learning rate that is too high can cause the algorithm to diverge or be inefficient in reaching convergence due to overshooting the minimum. A learning rate that is too low will require many epochs to converge, again making it inefficient. Therefore, the learning rate should be chosen accordingly."
   ],
   "metadata": {
    "collapsed": false
   }
  },
  {
   "cell_type": "code",
   "execution_count": 57,
   "outputs": [
    {
     "data": {
      "text/plain": "<Figure size 600x600 with 1 Axes>",
      "image/png": "[encoded data removed]"
     },
     "metadata": {},
     "output_type": "display_data"
    }
   ],
   "source": [
    "plt.figure(figsize=(6, 6))\n",
    "plt.plot(range(eps + 1), metrics['loss_train'], c='blue', label='Training')\n",
    "plt.plot(range(eps + 1), metrics['loss_test'], c='orange', label='Test')\n",
    "plt.legend(loc='upper right')\n",
    "plt.title('Loss')\n",
    "plt.xlabel('Epoch')\n",
    "plt.ylabel('Mean Squared Error')\n",
    "plt.show()"
   ],
   "metadata": {
    "collapsed": false
   }
  },
  {
   "cell_type": "code",
   "execution_count": 58,
   "outputs": [
    {
     "name": "stdout",
     "output_type": "stream",
     "text": [
      "Loss (Train):\t0.18842861254312948\n",
      "Loss (Test):\t0.17708188716342915\n"
     ]
    }
   ],
   "source": [
    "print('Loss (Train):\\t{}'.format(metrics['loss_train'][eps]))\n",
    "print('Loss (Test):\\t{}'.format(metrics['loss_test'][eps]))"
   ],
   "metadata": {
    "collapsed": false
   }
  },
  {
   "cell_type": "markdown",
   "source": [
    "We can also see how the model performs on real data. This red wine quality data set contains information about certain wines, such as acidity, pH, and quality. Let's use every variable except for the quality as predictor variables to predict the quality. To prevent overflow in Python, the data is normalized between 0 and 1."
   ],
   "metadata": {
    "collapsed": false
   }
  },
  {
   "cell_type": "code",
   "execution_count": 42,
   "outputs": [
    {
     "name": "stdout",
     "output_type": "stream",
     "text": [
      "   fixed acidity  volatile acidity  citric acid  residual sugar  chlorides  \\\n",
      "0       0.247788          0.397260         0.00        0.068493   0.106845   \n",
      "1       0.283186          0.520548         0.00        0.116438   0.143573   \n",
      "2       0.283186          0.438356         0.04        0.095890   0.133556   \n",
      "3       0.584071          0.109589         0.56        0.068493   0.105175   \n",
      "4       0.247788          0.397260         0.00        0.068493   0.106845   \n",
      "5       0.247788          0.369863         0.00        0.061644   0.105175   \n",
      "6       0.292035          0.328767         0.06        0.047945   0.095159   \n",
      "7       0.238938          0.363014         0.00        0.020548   0.088481   \n",
      "8       0.283186          0.315068         0.02        0.075342   0.101836   \n",
      "9       0.256637          0.260274         0.36        0.356164   0.098497   \n",
      "\n",
      "   free sulfur dioxide  total sulfur dioxide   density        pH  sulphates  \\\n",
      "0             0.140845              0.098940  0.567548  0.606299   0.137725   \n",
      "1             0.338028              0.215548  0.494126  0.362205   0.209581   \n",
      "2             0.197183              0.169611  0.508811  0.409449   0.191617   \n",
      "3             0.225352              0.190813  0.582232  0.330709   0.149701   \n",
      "4             0.140845              0.098940  0.567548  0.606299   0.137725   \n",
      "5             0.169014              0.120141  0.567548  0.606299   0.137725   \n",
      "6             0.197183              0.187279  0.464758  0.440945   0.077844   \n",
      "7             0.197183              0.053004  0.332599  0.511811   0.083832   \n",
      "8             0.112676              0.042403  0.494126  0.488189   0.143713   \n",
      "9             0.225352              0.339223  0.567548  0.480315   0.281437   \n",
      "\n",
      "    alcohol  quality  \n",
      "0  0.153846      0.4  \n",
      "1  0.215385      0.4  \n",
      "2  0.215385      0.4  \n",
      "3  0.215385      0.6  \n",
      "4  0.153846      0.4  \n",
      "5  0.153846      0.4  \n",
      "6  0.153846      0.4  \n",
      "7  0.246154      0.8  \n",
      "8  0.169231      0.8  \n",
      "9  0.323077      0.4  \n"
     ]
    }
   ],
   "source": [
    "wine_red = pd.read_csv('winequality-red.csv', sep=';')\n",
    "wine_red, denorm_min, denorm_max = normalize_minmax(wine_red)\n",
    "print(wine_red.head(10))\n",
    "wine_red = wine_red.to_numpy()"
   ],
   "metadata": {
    "collapsed": false
   }
  },
  {
   "cell_type": "code",
   "execution_count": 43,
   "outputs": [],
   "source": [
    "betas = np.zeros(wine_red.shape[1])\n",
    "eps = 1000\n",
    "lr = 0.2\n",
    "\n",
    "train, test = train_test_split(wine_red, test_size=0.1, shuffle=True)\n",
    "metrics = iterate(train, test, betas, eps, lr)"
   ],
   "metadata": {
    "collapsed": false
   }
  },
  {
   "cell_type": "markdown",
   "source": [
    "Again, the cost decreases and eventually flattens out i.e. converges."
   ],
   "metadata": {
    "collapsed": false
   }
  },
  {
   "cell_type": "code",
   "execution_count": 44,
   "outputs": [
    {
     "data": {
      "text/plain": "<Figure size 640x480 with 1 Axes>",
      "image/png": "[encoded data removed]"
     },
     "metadata": {},
     "output_type": "display_data"
    }
   ],
   "source": [
    "plt.plot(range(eps + 1), metrics['loss_train'], c='blue', label='Training')\n",
    "plt.plot(range(eps + 1), metrics['loss_test'], c='orange', label='Test')\n",
    "plt.legend(loc='upper right')\n",
    "plt.title('Loss')\n",
    "plt.xlabel('Epoch')\n",
    "plt.ylabel('Mean Squared Error')\n",
    "plt.show()"
   ],
   "metadata": {
    "collapsed": false
   }
  },
  {
   "cell_type": "code",
   "execution_count": 50,
   "outputs": [
    {
     "name": "stdout",
     "output_type": "stream",
     "text": [
      "Loss (Train):\t0.01668275685027738\n",
      "Loss (Test):\t0.01726592853319004\n"
     ]
    }
   ],
   "source": [
    "print('Loss (Train):\\t{}'.format(metrics['loss_train'][eps]))\n",
    "print('Loss (Test):\\t{}'.format(metrics['loss_test'][eps]))"
   ],
   "metadata": {
    "collapsed": false
   }
  },
  {
   "cell_type": "markdown",
   "source": [
    "After the model is trained, it can be used to predict the quality of red wine, given the predictor variables."
   ],
   "metadata": {
    "collapsed": false
   }
  },
  {
   "cell_type": "code",
   "execution_count": 51,
   "outputs": [
    {
     "name": "stdout",
     "output_type": "stream",
     "text": [
      "Normalized Actual Quality:\t\t0.6\n",
      "Normalized Predicted Quality:\t0.5742604430006906\n",
      "Denormalized Actual Quality:\t6.0\n",
      "Denormalized Predicted Quality:\t5.871302215003453\n"
     ]
    }
   ],
   "source": [
    "pred = 10\n",
    "print('Normalized Actual Quality:\\t\\t{}'.format(test[pred][test.shape[1] - 1]))\n",
    "print('Normalized Predicted Quality:\\t{}'.format(predict(test[pred][:test.shape[1] - 1], betas)))\n",
    "print('Denormalized Actual Quality:\\t{}'.format(denorm(test[pred][test.shape[1] - 1], denorm_min, denorm_max, 'quality')))\n",
    "print('Denormalized Predicted Quality:\\t{}'.format(denorm(predict(test[pred][:test.shape[1] - 1], betas), denorm_min, denorm_max, 'quality')))"
   ],
   "metadata": {
    "collapsed": false
   }
  },
  {
   "cell_type": "markdown",
   "source": [
    "## Final Thoughts\n",
    "Linear regression is one of the simplest machine learning algorithms. It is basically the \"Hello World\" of machine learning. As with many other techniques, we can use it on real data and visualize the progression of gradient descent. Although situations in reality often require models able to represent non-linear relationships, linear regression is powerful in education and a great starting point."
   ],
   "metadata": {
    "collapsed": false
   }
  }
 ],
 "metadata": {
  "kernelspec": {
   "display_name": "Python 3",
   "language": "python",
   "name": "python3"
  },
  "language_info": {
   "codemirror_mode": {
    "name": "ipython",
    "version": 2
   },
   "file_extension": ".py",
   "mimetype": "text/x-python",
   "name": "python",
   "nbconvert_exporter": "python",
   "pygments_lexer": "ipython2",
   "version": "2.7.6"
  }
 },
 "nbformat": 4,
 "nbformat_minor": 0
}
