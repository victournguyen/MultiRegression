{
 "cells": [
  {
   "cell_type": "code",
   "execution_count": 3,
   "metadata": {
    "collapsed": true
   },
   "outputs": [],
   "source": [
    "# Library imports\n",
    "import numpy as np\n",
    "import pandas as pd\n",
    "from sklearn.model_selection import train_test_split\n",
    "import matplotlib.pyplot as plt"
   ]
  },
  {
   "cell_type": "code",
   "execution_count": 4,
   "outputs": [],
   "source": [
    "def predict(point, betas):\n",
    "    #point and betas are np array\n",
    "    #len(point) should be len(betas) - 1\n",
    "    pass\n",
    "\n",
    "def mse(data, betas):\n",
    "    rows, cols = data.shape\n",
    "    loss = 0\n",
    "    for i in range(rows):\n",
    "        u = betas[0] + np.dot(betas[1:], data[i][:cols - 1].T)\n",
    "        loss += pow(data[i][cols - 1] - u, 2)\n",
    "    loss *= 1 / rows\n",
    "    return loss\n",
    "\n",
    "def iterate(data_train, data_test, betas, epochs, learning_rate):\n",
    "    metrics = {\n",
    "        'loss_train': [mse(data_train, betas)],\n",
    "        'loss_test': [mse(data_test, betas)],\n",
    "    }\n",
    "    rows, cols = data_train.shape\n",
    "    for k in range(epochs):\n",
    "        dbetas = np.zeros(len(betas))\n",
    "        for i in range(rows):\n",
    "            temp = data_train[i, cols - 1] - (betas[0] + np.dot(betas[1:], data_train[i][:cols - 1].T))\n",
    "            dbetas[0] += temp\n",
    "            dbetas[1:] += temp * data_train[i][:cols - 1]\n",
    "        dbetas *= -2 / rows\n",
    "        betas -= dbetas * learning_rate\n",
    "        metrics['loss_train'].append(mse(data_train, betas))\n",
    "        metrics['loss_test'].append(mse(data_test, betas))\n",
    "    return metrics"
   ],
   "metadata": {
    "collapsed": false
   }
  },
  {
   "cell_type": "code",
   "execution_count": 9,
   "outputs": [],
   "source": [
    "data = pd.read_csv('linreg_data.csv').to_numpy()\n",
    "train, test = train_test_split(data, test_size=0.1, shuffle=True)"
   ],
   "metadata": {
    "collapsed": false
   }
  },
  {
   "cell_type": "code",
   "execution_count": 24,
   "outputs": [],
   "source": [
    "eps = 100\n",
    "lr = 0.1\n",
    "betas = np.zeros(train.shape[1])\n",
    "\n",
    "metrics = iterate(train, test, betas, eps, lr)"
   ],
   "metadata": {
    "collapsed": false
   }
  },
  {
   "cell_type": "code",
   "execution_count": 37,
   "outputs": [
    {
     "data": {
      "text/plain": "<Figure size 600x600 with 1 Axes>",
      "image/png": "[encoded data removed]"
     },
     "metadata": {},
     "output_type": "display_data"
    }
   ],
   "source": [
    "plt.figure(figsize=(6, 6))\n",
    "plt.plot(range(eps + 1), metrics['loss_train'], c='blue', label='Training')\n",
    "plt.plot(range(eps + 1), metrics['loss_test'], c='orange', label='Test')\n",
    "plt.legend(loc='upper right')\n",
    "plt.title('Loss')\n",
    "plt.xlabel('Epoch')\n",
    "plt.ylabel('Mean Squared Error')\n",
    "plt.show()"
   ],
   "metadata": {
    "collapsed": false
   }
  },
  {
   "cell_type": "code",
   "execution_count": 30,
   "outputs": [
    {
     "name": "stdout",
     "output_type": "stream",
     "text": [
      "0.2200429678585119\n"
     ]
    }
   ],
   "source": [
    "print(metrics['loss_train'][eps])"
   ],
   "metadata": {
    "collapsed": false
   }
  },
  {
   "cell_type": "code",
   "execution_count": 44,
   "outputs": [
    {
     "data": {
      "text/plain": "   age  sex     bmi  children  smoker  region      charges\n0   19    0  27.900         0       1       2  16884.92400\n1   18    1  33.770         1       0       1   1725.55230\n2   28    1  33.000         3       0       1   4449.46200\n3   33    1  22.705         0       0       3  21984.47061\n4   32    1  28.880         0       0       3   3866.85520\n5   31    0  25.740         0       0       1   3756.62160\n6   46    0  33.440         1       0       1   8240.58960\n7   37    0  27.740         3       0       3   7281.50560\n8   37    1  29.830         2       0       0   6406.41070\n9   60    0  25.840         0       0       3  28923.13692",
      "text/html": "<div>\n<style scoped>\n    .dataframe tbody tr th:only-of-type {\n        vertical-align: middle;\n    }\n\n    .dataframe tbody tr th {\n        vertical-align: top;\n    }\n\n    .dataframe thead th {\n        text-align: right;\n    }\n</style>\n<table border=\"1\" class=\"dataframe\">\n  <thead>\n    <tr style=\"text-align: right;\">\n      <th></th>\n      <th>age</th>\n      <th>sex</th>\n      <th>bmi</th>\n      <th>children</th>\n      <th>smoker</th>\n      <th>region</th>\n      <th>charges</th>\n    </tr>\n  </thead>\n  <tbody>\n    <tr>\n      <th>0</th>\n      <td>19</td>\n      <td>0</td>\n      <td>27.900</td>\n      <td>0</td>\n      <td>1</td>\n      <td>2</td>\n      <td>16884.92400</td>\n    </tr>\n    <tr>\n      <th>1</th>\n      <td>18</td>\n      <td>1</td>\n      <td>33.770</td>\n      <td>1</td>\n      <td>0</td>\n      <td>1</td>\n      <td>1725.55230</td>\n    </tr>\n    <tr>\n      <th>2</th>\n      <td>28</td>\n      <td>1</td>\n      <td>33.000</td>\n      <td>3</td>\n      <td>0</td>\n      <td>1</td>\n      <td>4449.46200</td>\n    </tr>\n    <tr>\n      <th>3</th>\n      <td>33</td>\n      <td>1</td>\n      <td>22.705</td>\n      <td>0</td>\n      <td>0</td>\n      <td>3</td>\n      <td>21984.47061</td>\n    </tr>\n    <tr>\n      <th>4</th>\n      <td>32</td>\n      <td>1</td>\n      <td>28.880</td>\n      <td>0</td>\n      <td>0</td>\n      <td>3</td>\n      <td>3866.85520</td>\n    </tr>\n    <tr>\n      <th>5</th>\n      <td>31</td>\n      <td>0</td>\n      <td>25.740</td>\n      <td>0</td>\n      <td>0</td>\n      <td>1</td>\n      <td>3756.62160</td>\n    </tr>\n    <tr>\n      <th>6</th>\n      <td>46</td>\n      <td>0</td>\n      <td>33.440</td>\n      <td>1</td>\n      <td>0</td>\n      <td>1</td>\n      <td>8240.58960</td>\n    </tr>\n    <tr>\n      <th>7</th>\n      <td>37</td>\n      <td>0</td>\n      <td>27.740</td>\n      <td>3</td>\n      <td>0</td>\n      <td>3</td>\n      <td>7281.50560</td>\n    </tr>\n    <tr>\n      <th>8</th>\n      <td>37</td>\n      <td>1</td>\n      <td>29.830</td>\n      <td>2</td>\n      <td>0</td>\n      <td>0</td>\n      <td>6406.41070</td>\n    </tr>\n    <tr>\n      <th>9</th>\n      <td>60</td>\n      <td>0</td>\n      <td>25.840</td>\n      <td>0</td>\n      <td>0</td>\n      <td>3</td>\n      <td>28923.13692</td>\n    </tr>\n  </tbody>\n</table>\n</div>"
     },
     "execution_count": 44,
     "metadata": {},
     "output_type": "execute_result"
    }
   ],
   "source": [
    "insurance = pd.read_csv('insurance.csv')\n",
    "insurance['sex'] = insurance['sex'].apply(lambda x: (x == 'male') * 1)\n",
    "insurance['smoker'] = insurance['smoker'].apply(lambda x: (x == 'yes') * 1)\n",
    "regions = ['northeast', 'southeast', 'southwest', 'northwest']\n",
    "regions = {regions[i]: i for i in range(len(regions))}\n",
    "insurance['region'] = insurance['region'].apply(lambda x: regions[x])\n",
    "print(insurance.head(10))\n",
    "insurance = insurance.to_numpy()"
   ],
   "metadata": {
    "collapsed": false
   }
  },
  {
   "cell_type": "code",
   "execution_count": 45,
   "outputs": [
    {
     "ename": "KeyError",
     "evalue": "0",
     "output_type": "error",
     "traceback": [
      "\u001B[1;31m---------------------------------------------------------------------------\u001B[0m",
      "\u001B[1;31mKeyError\u001B[0m                                  Traceback (most recent call last)",
      "File \u001B[1;32m~\\AppData\\Local\\Programs\\Python\\Python310\\lib\\site-packages\\pandas\\core\\indexes\\base.py:3800\u001B[0m, in \u001B[0;36mIndex.get_loc\u001B[1;34m(self, key, method, tolerance)\u001B[0m\n\u001B[0;32m   3799\u001B[0m \u001B[38;5;28;01mtry\u001B[39;00m:\n\u001B[1;32m-> 3800\u001B[0m     \u001B[38;5;28;01mreturn\u001B[39;00m \u001B[38;5;28;43mself\u001B[39;49m\u001B[38;5;241;43m.\u001B[39;49m\u001B[43m_engine\u001B[49m\u001B[38;5;241;43m.\u001B[39;49m\u001B[43mget_loc\u001B[49m\u001B[43m(\u001B[49m\u001B[43mcasted_key\u001B[49m\u001B[43m)\u001B[49m\n\u001B[0;32m   3801\u001B[0m \u001B[38;5;28;01mexcept\u001B[39;00m \u001B[38;5;167;01mKeyError\u001B[39;00m \u001B[38;5;28;01mas\u001B[39;00m err:\n",
      "File \u001B[1;32m~\\AppData\\Local\\Programs\\Python\\Python310\\lib\\site-packages\\pandas\\_libs\\index.pyx:138\u001B[0m, in \u001B[0;36mpandas._libs.index.IndexEngine.get_loc\u001B[1;34m()\u001B[0m\n",
      "File \u001B[1;32m~\\AppData\\Local\\Programs\\Python\\Python310\\lib\\site-packages\\pandas\\_libs\\index.pyx:165\u001B[0m, in \u001B[0;36mpandas._libs.index.IndexEngine.get_loc\u001B[1;34m()\u001B[0m\n",
      "File \u001B[1;32mpandas\\_libs\\hashtable_class_helper.pxi:5745\u001B[0m, in \u001B[0;36mpandas._libs.hashtable.PyObjectHashTable.get_item\u001B[1;34m()\u001B[0m\n",
      "File \u001B[1;32mpandas\\_libs\\hashtable_class_helper.pxi:5753\u001B[0m, in \u001B[0;36mpandas._libs.hashtable.PyObjectHashTable.get_item\u001B[1;34m()\u001B[0m\n",
      "\u001B[1;31mKeyError\u001B[0m: 0",
      "\nThe above exception was the direct cause of the following exception:\n",
      "\u001B[1;31mKeyError\u001B[0m                                  Traceback (most recent call last)",
      "Cell \u001B[1;32mIn [45], line 6\u001B[0m\n\u001B[0;32m      3\u001B[0m lr \u001B[38;5;241m=\u001B[39m \u001B[38;5;241m0.1\u001B[39m\n\u001B[0;32m      5\u001B[0m train, test \u001B[38;5;241m=\u001B[39m train_test_split(insurance, test_size\u001B[38;5;241m=\u001B[39m\u001B[38;5;241m0.1\u001B[39m, shuffle\u001B[38;5;241m=\u001B[39m\u001B[38;5;28;01mTrue\u001B[39;00m)\n\u001B[1;32m----> 6\u001B[0m metrics \u001B[38;5;241m=\u001B[39m iterate(train, test, betas, eps, lr)\n",
      "Cell \u001B[1;32mIn [4], line 12\u001B[0m, in \u001B[0;36miterate\u001B[1;34m(data_train, data_test, betas, epochs, learning_rate)\u001B[0m\n\u001B[0;32m     10\u001B[0m \u001B[38;5;28;01mdef\u001B[39;00m \u001B[38;5;21miterate\u001B[39m(data_train, data_test, betas, epochs, learning_rate):\n\u001B[0;32m     11\u001B[0m     metrics \u001B[38;5;241m=\u001B[39m {\n\u001B[1;32m---> 12\u001B[0m         \u001B[38;5;124m'\u001B[39m\u001B[38;5;124mloss_train\u001B[39m\u001B[38;5;124m'\u001B[39m: [\u001B[43mmse\u001B[49m\u001B[43m(\u001B[49m\u001B[43mdata_train\u001B[49m\u001B[43m,\u001B[49m\u001B[43m \u001B[49m\u001B[43mbetas\u001B[49m\u001B[43m)\u001B[49m],\n\u001B[0;32m     13\u001B[0m         \u001B[38;5;124m'\u001B[39m\u001B[38;5;124mloss_test\u001B[39m\u001B[38;5;124m'\u001B[39m: [mse(data_test, betas)],\n\u001B[0;32m     14\u001B[0m     }\n\u001B[0;32m     15\u001B[0m     rows, cols \u001B[38;5;241m=\u001B[39m data_train\u001B[38;5;241m.\u001B[39mshape\n\u001B[0;32m     16\u001B[0m     \u001B[38;5;28;01mfor\u001B[39;00m k \u001B[38;5;129;01min\u001B[39;00m \u001B[38;5;28mrange\u001B[39m(epochs):\n",
      "Cell \u001B[1;32mIn [4], line 5\u001B[0m, in \u001B[0;36mmse\u001B[1;34m(data, betas)\u001B[0m\n\u001B[0;32m      3\u001B[0m loss \u001B[38;5;241m=\u001B[39m \u001B[38;5;241m0\u001B[39m\n\u001B[0;32m      4\u001B[0m \u001B[38;5;28;01mfor\u001B[39;00m i \u001B[38;5;129;01min\u001B[39;00m \u001B[38;5;28mrange\u001B[39m(rows):\n\u001B[1;32m----> 5\u001B[0m     u \u001B[38;5;241m=\u001B[39m betas[\u001B[38;5;241m0\u001B[39m] \u001B[38;5;241m+\u001B[39m np\u001B[38;5;241m.\u001B[39mdot(betas[\u001B[38;5;241m1\u001B[39m:], \u001B[43mdata\u001B[49m\u001B[43m[\u001B[49m\u001B[43mi\u001B[49m\u001B[43m]\u001B[49m[:cols \u001B[38;5;241m-\u001B[39m \u001B[38;5;241m1\u001B[39m]\u001B[38;5;241m.\u001B[39mT)\n\u001B[0;32m      6\u001B[0m     loss \u001B[38;5;241m+\u001B[39m\u001B[38;5;241m=\u001B[39m \u001B[38;5;28mpow\u001B[39m(data[i][cols \u001B[38;5;241m-\u001B[39m \u001B[38;5;241m1\u001B[39m] \u001B[38;5;241m-\u001B[39m u, \u001B[38;5;241m2\u001B[39m)\n\u001B[0;32m      7\u001B[0m loss \u001B[38;5;241m*\u001B[39m\u001B[38;5;241m=\u001B[39m \u001B[38;5;241m1\u001B[39m \u001B[38;5;241m/\u001B[39m rows\n",
      "File \u001B[1;32m~\\AppData\\Local\\Programs\\Python\\Python310\\lib\\site-packages\\pandas\\core\\frame.py:3805\u001B[0m, in \u001B[0;36mDataFrame.__getitem__\u001B[1;34m(self, key)\u001B[0m\n\u001B[0;32m   3803\u001B[0m \u001B[38;5;28;01mif\u001B[39;00m \u001B[38;5;28mself\u001B[39m\u001B[38;5;241m.\u001B[39mcolumns\u001B[38;5;241m.\u001B[39mnlevels \u001B[38;5;241m>\u001B[39m \u001B[38;5;241m1\u001B[39m:\n\u001B[0;32m   3804\u001B[0m     \u001B[38;5;28;01mreturn\u001B[39;00m \u001B[38;5;28mself\u001B[39m\u001B[38;5;241m.\u001B[39m_getitem_multilevel(key)\n\u001B[1;32m-> 3805\u001B[0m indexer \u001B[38;5;241m=\u001B[39m \u001B[38;5;28;43mself\u001B[39;49m\u001B[38;5;241;43m.\u001B[39;49m\u001B[43mcolumns\u001B[49m\u001B[38;5;241;43m.\u001B[39;49m\u001B[43mget_loc\u001B[49m\u001B[43m(\u001B[49m\u001B[43mkey\u001B[49m\u001B[43m)\u001B[49m\n\u001B[0;32m   3806\u001B[0m \u001B[38;5;28;01mif\u001B[39;00m is_integer(indexer):\n\u001B[0;32m   3807\u001B[0m     indexer \u001B[38;5;241m=\u001B[39m [indexer]\n",
      "File \u001B[1;32m~\\AppData\\Local\\Programs\\Python\\Python310\\lib\\site-packages\\pandas\\core\\indexes\\base.py:3802\u001B[0m, in \u001B[0;36mIndex.get_loc\u001B[1;34m(self, key, method, tolerance)\u001B[0m\n\u001B[0;32m   3800\u001B[0m     \u001B[38;5;28;01mreturn\u001B[39;00m \u001B[38;5;28mself\u001B[39m\u001B[38;5;241m.\u001B[39m_engine\u001B[38;5;241m.\u001B[39mget_loc(casted_key)\n\u001B[0;32m   3801\u001B[0m \u001B[38;5;28;01mexcept\u001B[39;00m \u001B[38;5;167;01mKeyError\u001B[39;00m \u001B[38;5;28;01mas\u001B[39;00m err:\n\u001B[1;32m-> 3802\u001B[0m     \u001B[38;5;28;01mraise\u001B[39;00m \u001B[38;5;167;01mKeyError\u001B[39;00m(key) \u001B[38;5;28;01mfrom\u001B[39;00m \u001B[38;5;21;01merr\u001B[39;00m\n\u001B[0;32m   3803\u001B[0m \u001B[38;5;28;01mexcept\u001B[39;00m \u001B[38;5;167;01mTypeError\u001B[39;00m:\n\u001B[0;32m   3804\u001B[0m     \u001B[38;5;66;03m# If we have a listlike key, _check_indexing_error will raise\u001B[39;00m\n\u001B[0;32m   3805\u001B[0m     \u001B[38;5;66;03m#  InvalidIndexError. Otherwise we fall through and re-raise\u001B[39;00m\n\u001B[0;32m   3806\u001B[0m     \u001B[38;5;66;03m#  the TypeError.\u001B[39;00m\n\u001B[0;32m   3807\u001B[0m     \u001B[38;5;28mself\u001B[39m\u001B[38;5;241m.\u001B[39m_check_indexing_error(key)\n",
      "\u001B[1;31mKeyError\u001B[0m: 0"
     ]
    }
   ],
   "source": [
    "betas = np.zeros(insurance.shape[1])\n",
    "eps = 100\n",
    "lr = 0.1\n",
    "\n",
    "train, test = train_test_split(insurance, test_size=0.1, shuffle=True)\n",
    "metrics = iterate(train, test, betas, eps, lr)"
   ],
   "metadata": {
    "collapsed": false
   }
  },
  {
   "cell_type": "code",
   "execution_count": null,
   "outputs": [],
   "source": [
    "plt.figure(figsize=(6, 6))\n",
    "plt.plot(range(eps + 1), metrics['loss_train'], c='blue', label='Training')\n",
    "plt.plot(range(eps + 1), metrics['loss_test'], c='orange', label='Test')\n",
    "plt.legend(loc='upper right')\n",
    "plt.title('Loss')\n",
    "plt.xlabel('Epoch')\n",
    "plt.ylabel('Mean Squared Error')\n",
    "plt.show()"
   ],
   "metadata": {
    "collapsed": false
   }
  }
 ],
 "metadata": {
  "kernelspec": {
   "display_name": "Python 3",
   "language": "python",
   "name": "python3"
  },
  "language_info": {
   "codemirror_mode": {
    "name": "ipython",
    "version": 2
   },
   "file_extension": ".py",
   "mimetype": "text/x-python",
   "name": "python",
   "nbconvert_exporter": "python",
   "pygments_lexer": "ipython2",
   "version": "2.7.6"
  }
 },
 "nbformat": 4,
 "nbformat_minor": 0
}
