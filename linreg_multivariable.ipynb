{
 "cells": [
  {
   "cell_type": "code",
   "execution_count": null,
   "metadata": {
    "collapsed": true
   },
   "outputs": [],
   "source": [
    "# Library imports\n",
    "import numpy as np"
   ]
  },
  {
   "cell_type": "code",
   "execution_count": null,
   "outputs": [],
   "source": [
    "def mse(data, betas):\n",
    "    rows, cols = data.shape\n",
    "    loss = 0\n",
    "    for i in range(rows):\n",
    "        u = betas[0] + np.dot(betas[1:], data[i][:cols - 1])\n",
    "        loss += pow(data[i][cols - 1] - u, 2)\n",
    "    loss *= 1 / rows\n",
    "    return loss\n",
    "\n",
    "def iterate(data, betas, epochs, learning_rate):\n",
    "    rows, cols = data.shape\n",
    "    metrics = {\n",
    "\n",
    "    }\n",
    "    for k in range(epochs):\n",
    "        dbetas = np.zeros(len(betas))\n",
    "        for i in range(rows):\n",
    "            temp = 0\n",
    "            dbetas[0] += temp\n",
    "            \n",
    "        dbetas *= -2 / rows\n",
    "        betas -= dbetas * learning_rate\n",
    "    return metrics"
   ],
   "metadata": {
    "collapsed": false
   }
  },
  {
   "cell_type": "code",
   "execution_count": null,
   "outputs": [],
   "source": [],
   "metadata": {
    "collapsed": false
   }
  }
 ],
 "metadata": {
  "kernelspec": {
   "display_name": "Python 3",
   "language": "python",
   "name": "python3"
  },
  "language_info": {
   "codemirror_mode": {
    "name": "ipython",
    "version": 2
   },
   "file_extension": ".py",
   "mimetype": "text/x-python",
   "name": "python",
   "nbconvert_exporter": "python",
   "pygments_lexer": "ipython2",
   "version": "2.7.6"
  }
 },
 "nbformat": 4,
 "nbformat_minor": 0
}
