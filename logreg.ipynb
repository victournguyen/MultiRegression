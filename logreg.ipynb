{
 "cells": [
  {
   "cell_type": "code",
   "execution_count": 1,
   "metadata": {},
   "outputs": [],
   "source": [
    "# Library imports\n",
    "from math import exp, log\n",
    "import pandas as pd\n",
    "import numpy as np\n",
    "import matplotlib.pyplot as plt\n",
    "import random"
   ]
  },
  {
   "cell_type": "code",
   "execution_count": 2,
   "metadata": {},
   "outputs": [],
   "source": [
    "df = pd.read_csv('data.csv')\n",
    "num_classes = 3\n",
    "num_b = len(df.columns)\n",
    "b = np.zeros((num_classes, num_b))\n",
    "num_obs = df.shape[0]"
   ]
  },
  {
   "cell_type": "code",
   "execution_count": 3,
   "metadata": {},
   "outputs": [
    {
     "name": "stdout",
     "output_type": "stream",
     "text": [
      "[[0. 0. 0. 0.]\n",
      " [0. 0. 0. 0.]\n",
      " [0. 0. 0. 0.]]\n"
     ]
    }
   ],
   "source": [
    "print(b)"
   ]
  },
  {
   "cell_type": "code",
   "execution_count": 6,
   "metadata": {},
   "outputs": [],
   "source": [
    "def probability(c, i):\n",
    "    a = df.loc[i].to_numpy()\n",
    "    u = b[c][0] + np.dot(b[c][1:], np.transpose(a[:len(a) - 1]))\n",
    "    return 1 / (1 + exp(-u))\n",
    "\n",
    "def log_loss():\n",
    "    # return a list of losses or maybe add a column to the df_beta dataframe\n",
    "    loss = np.zeros(num_classes)\n",
    "    # for each class -> for each obs -> add probability to the corresponding class in j\n",
    "    for i in range(num_classes):\n",
    "        for j in range(num_obs):\n",
    "            p = probability(i, j)\n",
    "            yes = (df.loc[j, 'class'] == i) * 1\n",
    "            # print(i, yes)\n",
    "            try:\n",
    "                loss[i] += yes * log(p) + (1 - yes) * log(1 - p)\n",
    "            except:\n",
    "                print('diverges')\n",
    "                return None\n",
    "    loss = np.multiply(loss, -1 / num_obs)\n",
    "    return loss"
   ]
  },
  {
   "cell_type": "code",
   "execution_count": 6,
   "metadata": {},
   "outputs": [
    {
     "name": "stdout",
     "output_type": "stream",
     "text": [
      "[0.69314718 0.69314718 0.69314718]\n"
     ]
    }
   ],
   "source": [
    "print(log_loss())"
   ]
  },
  {
   "cell_type": "code",
   "execution_count": 4,
   "metadata": {},
   "outputs": [],
   "source": [
    "def iterate(epochs, learning_rate):\n",
    "    for i in range(epochs):\n",
    "        for j in range(num_classes):\n",
    "            db = np.zeros(num_b)\n",
    "            for k in range(num_obs):\n",
    "                yes = (df.loc[k, 'class'] == j) * 1\n",
    "                temp = probability(j, k) * (2 * yes - 1)\n",
    "                db[0] += temp\n",
    "                for l in range(1, num_b):\n",
    "                    db[l] += df.iloc[k, l - 1] * temp\n",
    "            db = np.multiply(db, -1 / num_obs)\n",
    "            b[j] = np.subtract(b[j], learning_rate * db)"
   ]
  },
  {
   "cell_type": "code",
   "execution_count": 7,
   "metadata": {},
   "outputs": [
    {
     "name": "stdout",
     "output_type": "stream",
     "text": [
      "[[ 0.03827101  1.31955571 -0.16239309 -0.13934931]\n",
      " [ 0.03894297 -0.14949413  1.00561499 -0.13935374]\n",
      " [ 0.03755659 -0.14947919 -0.1623814   1.76271873]]\n",
      "diverges\n",
      "None\n"
     ]
    }
   ],
   "source": [
    "iterate(100, 0.001)\n",
    "print(b)\n",
    "print(log_loss())"
   ]
  }
 ],
 "metadata": {
  "kernelspec": {
   "display_name": "Python 3.10.1 64-bit",
   "language": "python",
   "name": "python3"
  },
  "language_info": {
   "codemirror_mode": {
    "name": "ipython",
    "version": 3
   },
   "file_extension": ".py",
   "mimetype": "text/x-python",
   "name": "python",
   "nbconvert_exporter": "python",
   "pygments_lexer": "ipython3",
   "version": "3.10.1"
  },
  "orig_nbformat": 4,
  "vscode": {
   "interpreter": {
    "hash": "25fa576b782c4d198b17889246726cee7a72c52d76fe26f44ccd53a1cbf8f508"
   }
  }
 },
 "nbformat": 4,
 "nbformat_minor": 2
}
